{
 "cells": [
  {
   "cell_type": "code",
   "execution_count": 1,
   "metadata": {},
   "outputs": [
    {
     "name": "stdout",
     "output_type": "stream",
     "text": [
      "[NbConvertApp] Converting notebook word2vec_actual.ipynb to script\n",
      "[NbConvertApp] Writing 6709 bytes to word2vec_actual.py\n"
     ]
    }
   ],
   "source": [
    "!jupyter nbconvert --to script word2vec_actual.ipynb"
   ]
  },
  {
   "cell_type": "code",
   "execution_count": 15,
   "metadata": {},
   "outputs": [],
   "source": [
    "import pandas as pd\n",
    "import numpy as np\n",
    "import re"
   ]
  },
  {
   "cell_type": "code",
   "execution_count": 16,
   "metadata": {},
   "outputs": [],
   "source": [
    "import os\n",
    "import pandas as pd\n",
    "import nltk\n",
    "from nltk.tokenize import word_tokenize\n",
    "from collections import Counter\n",
    "\n",
    "import tqdm"
   ]
  },
  {
   "cell_type": "code",
   "execution_count": 17,
   "metadata": {},
   "outputs": [],
   "source": [
    "df = pd.read_csv('../data/hate/train.csv')\n",
    "val_hate = pd.read_csv('../data/hate/val.csv')"
   ]
  },
  {
   "cell_type": "code",
   "execution_count": 19,
   "metadata": {},
   "outputs": [],
   "source": [
    "df['Sentence'] = df['Sentence'].apply(lambda x: re.sub(r'http\\S+|www\\S+|https\\S+', '', str(x)))"
   ]
  },
  {
   "cell_type": "code",
   "execution_count": 31,
   "metadata": {},
   "outputs": [
    {
     "data": {
      "text/plain": [
       "0       hariyana mey ek week mey teen bachchiyo ke saa...\n",
       "1       indira gandhi ko marne wala sikhrajiv gandhi k...\n",
       "2       ishliye corruption ke jariye sab ki khoon choo...\n",
       "3       pakistaniyon ko aisi news maamul sa ho gaya ha...\n",
       "4       apne national anthem ko change karo and yeh li...\n",
       "                              ...                        \n",
       "3655    sale kardi pakistan wali wo bhi unke talwe cha...\n",
       "3656    pti walayuchal rahay hain aik tweet prr dusri ...\n",
       "3657    jaa kay apny behan ky izaat bacha koi rape kaa...\n",
       "3658    oh godi told u nafirst day jab adi ki ek v sce...\n",
       "3659    shilpa ki maa bannay ki overacting maa ban ban...\n",
       "Name: Sentence, Length: 3660, dtype: object"
      ]
     },
     "execution_count": 31,
     "metadata": {},
     "output_type": "execute_result"
    }
   ],
   "source": [
    "df['Sentence']"
   ]
  },
  {
   "cell_type": "markdown",
   "metadata": {},
   "source": [
    "# `Creating Vocabulary`"
   ]
  },
  {
   "cell_type": "code",
   "execution_count": 32,
   "metadata": {},
   "outputs": [
    {
     "name": "stdout",
     "output_type": "stream",
     "text": [
      "Vocabulary size: 12933\n"
     ]
    }
   ],
   "source": [
    "vocab = []\n",
    "\n",
    "for sentence in df['Sentence']:\n",
    "    words = sentence.split()\n",
    "    vocab.extend(words)\n",
    "    \n",
    "wordCount = Counter(vocab)\n",
    "vocab = {word: i for i, (word, _) in enumerate(wordCount.items())}\n",
    "inv_vocab = {i: word for word, i in vocab.items()}  # Reverse mapping\n",
    "vocab_size = len(vocab)\n",
    "\n",
    "print(\"Vocabulary size:\", vocab_size)"
   ]
  },
  {
   "cell_type": "code",
   "execution_count": 33,
   "metadata": {},
   "outputs": [
    {
     "data": {
      "text/plain": [
       "71895"
      ]
     },
     "execution_count": 33,
     "metadata": {},
     "output_type": "execute_result"
    }
   ],
   "source": [
    "train_sentences = []\n",
    "\n",
    "for sentence in df['Sentence']:\n",
    "    train_sentences.extend(sentence.split())\n",
    "\n",
    "len(train_sentences)"
   ]
  },
  {
   "cell_type": "code",
   "execution_count": 34,
   "metadata": {},
   "outputs": [],
   "source": [
    "train_sentences = train_sentences"
   ]
  },
  {
   "cell_type": "code",
   "execution_count": 35,
   "metadata": {},
   "outputs": [
    {
     "name": "stderr",
     "output_type": "stream",
     "text": [
      "Processing Pairs:   0%|          | 85/71891 [00:06<1:32:59, 12.87it/s]\n"
     ]
    },
    {
     "ename": "KeyboardInterrupt",
     "evalue": "",
     "output_type": "error",
     "traceback": [
      "\u001b[31m---------------------------------------------------------------------------\u001b[39m",
      "\u001b[31mKeyboardInterrupt\u001b[39m                         Traceback (most recent call last)",
      "\u001b[36mCell\u001b[39m\u001b[36m \u001b[39m\u001b[32mIn[35]\u001b[39m\u001b[32m, line 18\u001b[39m\n\u001b[32m     15\u001b[39m data.append([center_word, context_word, \u001b[32m1\u001b[39m])  \u001b[38;5;66;03m# Positive pair\u001b[39;00m\n\u001b[32m     17\u001b[39m \u001b[38;5;66;03m# Get negative samples (words NOT in current context)\u001b[39;00m\n\u001b[32m---> \u001b[39m\u001b[32m18\u001b[39m negative_samples = \u001b[43mnp\u001b[49m\u001b[43m.\u001b[49m\u001b[43mrandom\u001b[49m\u001b[43m.\u001b[49m\u001b[43mchoice\u001b[49m\u001b[43m(\u001b[49m\n\u001b[32m     19\u001b[39m \u001b[43m    \u001b[49m\u001b[43m[\u001b[49m\u001b[43mw\u001b[49m\u001b[43m \u001b[49m\u001b[38;5;28;43;01mfor\u001b[39;49;00m\u001b[43m \u001b[49m\u001b[43mw\u001b[49m\u001b[43m \u001b[49m\u001b[38;5;129;43;01min\u001b[39;49;00m\u001b[43m \u001b[49m\u001b[43mtrain_sentences\u001b[49m\u001b[43m[\u001b[49m\u001b[43mWINDOW_SIZE\u001b[49m\u001b[43m-\u001b[49m\u001b[32;43m1\u001b[39;49m\u001b[43m:\u001b[49m\u001b[43m-\u001b[49m\u001b[43mWINDOW_SIZE\u001b[49m\u001b[43m]\u001b[49m\u001b[43m \u001b[49m\u001b[38;5;28;43;01mif\u001b[39;49;00m\u001b[43m \u001b[49m\u001b[43mw\u001b[49m\u001b[43m \u001b[49m\u001b[43m!=\u001b[49m\u001b[43m \u001b[49m\u001b[43mcenter_word\u001b[49m\u001b[43m \u001b[49m\u001b[38;5;129;43;01mand\u001b[39;49;00m\u001b[43m \u001b[49m\u001b[43mw\u001b[49m\u001b[43m \u001b[49m\u001b[38;5;129;43;01mnot\u001b[39;49;00m\u001b[43m \u001b[49m\u001b[38;5;129;43;01min\u001b[39;49;00m\u001b[43m \u001b[49m\u001b[43mcontext_words\u001b[49m\u001b[43m]\u001b[49m\u001b[43m,\u001b[49m\u001b[43m \u001b[49m\n\u001b[32m     20\u001b[39m \u001b[43m    \u001b[49m\u001b[43mNUM_NEGATIVE_SAMPLES\u001b[49m\u001b[43m,\u001b[49m\u001b[43m \u001b[49m\n\u001b[32m     21\u001b[39m \u001b[43m    \u001b[49m\u001b[43mreplace\u001b[49m\u001b[43m=\u001b[49m\u001b[38;5;28;43;01mFalse\u001b[39;49;00m\n\u001b[32m     22\u001b[39m \u001b[43m\u001b[49m\u001b[43m)\u001b[49m\n\u001b[32m     24\u001b[39m \u001b[38;5;28;01mfor\u001b[39;00m negative_samp \u001b[38;5;129;01min\u001b[39;00m negative_samples:\n\u001b[32m     25\u001b[39m     data.append([center_word, negative_samp, \u001b[32m0\u001b[39m])  \u001b[38;5;66;03m# Negative pair\u001b[39;00m\n",
      "\u001b[36mFile \u001b[39m\u001b[32mnumpy/random/mtrand.pyx:956\u001b[39m, in \u001b[36mnumpy.random.mtrand.RandomState.choice\u001b[39m\u001b[34m()\u001b[39m\n",
      "\u001b[31mKeyboardInterrupt\u001b[39m: "
     ]
    }
   ],
   "source": [
    "WINDOW_SIZE = 3\n",
    "NUM_NEGATIVE_SAMPLES = 3\n",
    "\n",
    "data = []\n",
    "\n",
    "# Iterate over all words with tqdm progress bar\n",
    "for idx, center_word in tqdm.tqdm(enumerate(train_sentences[WINDOW_SIZE-1:-WINDOW_SIZE]), \n",
    "                             total=len(train_sentences) - 2 * (WINDOW_SIZE - 1), \n",
    "                             desc=\"Processing Pairs\"):\n",
    "\n",
    "    # Get context words around the center word\n",
    "    context_words = [context_word for context_word in train_sentences[idx:idx+2*WINDOW_SIZE-1] if context_word != center_word]\n",
    "    \n",
    "    for context_word in context_words:\n",
    "        data.append([center_word, context_word, 1])  # Positive pair\n",
    "        \n",
    "        # Get negative samples (words NOT in current context)\n",
    "        negative_samples = np.random.choice(\n",
    "            [w for w in train_sentences[WINDOW_SIZE-1:-WINDOW_SIZE] if w != center_word and w not in context_words], \n",
    "            NUM_NEGATIVE_SAMPLES, \n",
    "            replace=False\n",
    "        )\n",
    "\n",
    "        for negative_samp in negative_samples:\n",
    "            data.append([center_word, negative_samp, 0])  # Negative pair"
   ]
  },
  {
   "cell_type": "code",
   "execution_count": 10,
   "metadata": {},
   "outputs": [
    {
     "data": {
      "text/html": [
       "<div>\n",
       "<style scoped>\n",
       "    .dataframe tbody tr th:only-of-type {\n",
       "        vertical-align: middle;\n",
       "    }\n",
       "\n",
       "    .dataframe tbody tr th {\n",
       "        vertical-align: top;\n",
       "    }\n",
       "\n",
       "    .dataframe thead th {\n",
       "        text-align: right;\n",
       "    }\n",
       "</style>\n",
       "<table border=\"1\" class=\"dataframe\">\n",
       "  <thead>\n",
       "    <tr style=\"text-align: right;\">\n",
       "      <th></th>\n",
       "      <th>center_word</th>\n",
       "      <th>context_word</th>\n",
       "      <th>label</th>\n",
       "    </tr>\n",
       "  </thead>\n",
       "  <tbody>\n",
       "    <tr>\n",
       "      <th>0</th>\n",
       "      <td>ek</td>\n",
       "      <td>fir</td>\n",
       "      <td>0</td>\n",
       "    </tr>\n",
       "    <tr>\n",
       "      <th>1</th>\n",
       "      <td>ek</td>\n",
       "      <td>filmo</td>\n",
       "      <td>0</td>\n",
       "    </tr>\n",
       "    <tr>\n",
       "      <th>2</th>\n",
       "      <td>ek</td>\n",
       "      <td>re</td>\n",
       "      <td>0</td>\n",
       "    </tr>\n",
       "    <tr>\n",
       "      <th>3</th>\n",
       "      <td>ek</td>\n",
       "      <td>mey</td>\n",
       "      <td>1</td>\n",
       "    </tr>\n",
       "    <tr>\n",
       "      <th>4</th>\n",
       "      <td>ek</td>\n",
       "      <td>hogya</td>\n",
       "      <td>0</td>\n",
       "    </tr>\n",
       "    <tr>\n",
       "      <th>...</th>\n",
       "      <td>...</td>\n",
       "      <td>...</td>\n",
       "      <td>...</td>\n",
       "    </tr>\n",
       "    <tr>\n",
       "      <th>95634</th>\n",
       "      <td>ne</td>\n",
       "      <td>kiss</td>\n",
       "      <td>0</td>\n",
       "    </tr>\n",
       "    <tr>\n",
       "      <th>95635</th>\n",
       "      <td>ne</td>\n",
       "      <td>ka</td>\n",
       "      <td>1</td>\n",
       "    </tr>\n",
       "    <tr>\n",
       "      <th>95636</th>\n",
       "      <td>ne</td>\n",
       "      <td>city</td>\n",
       "      <td>0</td>\n",
       "    </tr>\n",
       "    <tr>\n",
       "      <th>95637</th>\n",
       "      <td>ne</td>\n",
       "      <td>Maine</td>\n",
       "      <td>0</td>\n",
       "    </tr>\n",
       "    <tr>\n",
       "      <th>95638</th>\n",
       "      <td>ne</td>\n",
       "      <td>ko</td>\n",
       "      <td>0</td>\n",
       "    </tr>\n",
       "  </tbody>\n",
       "</table>\n",
       "<p>95639 rows × 3 columns</p>\n",
       "</div>"
      ],
      "text/plain": [
       "      center_word context_word  label\n",
       "0              ek          fir      0\n",
       "1              ek        filmo      0\n",
       "2              ek           re      0\n",
       "3              ek          mey      1\n",
       "4              ek        hogya      0\n",
       "...           ...          ...    ...\n",
       "95634          ne         kiss      0\n",
       "95635          ne           ka      1\n",
       "95636          ne         city      0\n",
       "95637          ne        Maine      0\n",
       "95638          ne           ko      0\n",
       "\n",
       "[95639 rows x 3 columns]"
      ]
     },
     "execution_count": 10,
     "metadata": {},
     "output_type": "execute_result"
    }
   ],
   "source": [
    "df = pd.DataFrame(columns=['center_word', 'context_word', 'label'], data=data)\n",
    "words = np.intersect1d(df.context_word, df.center_word)\n",
    "df = df[(df.center_word.isin(words)) & (df.context_word.isin(words))].reset_index(drop=True)\n",
    "df"
   ]
  },
  {
   "cell_type": "code",
   "execution_count": 20,
   "metadata": {},
   "outputs": [
    {
     "data": {
      "text/plain": [
       "17305"
      ]
     },
     "execution_count": 20,
     "metadata": {},
     "output_type": "execute_result"
    }
   ],
   "source": [
    "len(vocab)"
   ]
  },
  {
   "cell_type": "code",
   "execution_count": 11,
   "metadata": {},
   "outputs": [],
   "source": [
    "import pandas as pd\n",
    "\n",
    "# Create a new DataFrame (deep copy to avoid modifying the original)\n",
    "df_ids = df.copy()\n",
    "\n",
    "# Replace words with their corresponding IDs from vocab\n",
    "df_ids['center_word'] = df_ids['center_word'].map(lambda w: vocab.get(w, -1))\n",
    "df_ids['context_word'] = df_ids['context_word'].map(lambda w: vocab.get(w, -1))\n",
    "\n"
   ]
  },
  {
   "cell_type": "code",
   "execution_count": 12,
   "metadata": {},
   "outputs": [
    {
     "data": {
      "text/html": [
       "<div>\n",
       "<style scoped>\n",
       "    .dataframe tbody tr th:only-of-type {\n",
       "        vertical-align: middle;\n",
       "    }\n",
       "\n",
       "    .dataframe tbody tr th {\n",
       "        vertical-align: top;\n",
       "    }\n",
       "\n",
       "    .dataframe thead th {\n",
       "        text-align: right;\n",
       "    }\n",
       "</style>\n",
       "<table border=\"1\" class=\"dataframe\">\n",
       "  <thead>\n",
       "    <tr style=\"text-align: right;\">\n",
       "      <th></th>\n",
       "      <th>center_word</th>\n",
       "      <th>context_word</th>\n",
       "      <th>label</th>\n",
       "    </tr>\n",
       "  </thead>\n",
       "  <tbody>\n",
       "    <tr>\n",
       "      <th>0</th>\n",
       "      <td>2</td>\n",
       "      <td>306</td>\n",
       "      <td>0</td>\n",
       "    </tr>\n",
       "    <tr>\n",
       "      <th>1</th>\n",
       "      <td>2</td>\n",
       "      <td>2477</td>\n",
       "      <td>0</td>\n",
       "    </tr>\n",
       "    <tr>\n",
       "      <th>2</th>\n",
       "      <td>2</td>\n",
       "      <td>2659</td>\n",
       "      <td>0</td>\n",
       "    </tr>\n",
       "    <tr>\n",
       "      <th>3</th>\n",
       "      <td>2</td>\n",
       "      <td>1</td>\n",
       "      <td>1</td>\n",
       "    </tr>\n",
       "    <tr>\n",
       "      <th>4</th>\n",
       "      <td>2</td>\n",
       "      <td>453</td>\n",
       "      <td>0</td>\n",
       "    </tr>\n",
       "  </tbody>\n",
       "</table>\n",
       "</div>"
      ],
      "text/plain": [
       "   center_word  context_word  label\n",
       "0            2           306      0\n",
       "1            2          2477      0\n",
       "2            2          2659      0\n",
       "3            2             1      1\n",
       "4            2           453      0"
      ]
     },
     "execution_count": 12,
     "metadata": {},
     "output_type": "execute_result"
    }
   ],
   "source": [
    "# Print the first few rows to verify\n",
    "df_ids.head()\n"
   ]
  },
  {
   "cell_type": "code",
   "execution_count": 13,
   "metadata": {},
   "outputs": [],
   "source": [
    "import torch\n",
    "import torch.nn as nn\n",
    "import torch.optim as optim\n",
    "\n",
    "class Word2Vec(nn.Module):\n",
    "    def __init__(self, vocab_size, embed_dim):\n",
    "        super(Word2Vec, self).__init__()\n",
    "        self.embeddings = nn.Embedding(vocab_size, embed_dim)  # Word embedding matrix\n",
    "        self.output_embeddings = nn.Embedding(vocab_size, embed_dim)  # Context embedding matrix\n",
    "    \n",
    "    def forward(self, target, context):\n",
    "        target_emb = self.embeddings(target)  # (batch_size, embed_dim)\n",
    "        context_emb = self.output_embeddings(context)  # (batch_size, embed_dim)\n",
    "        scores = torch.sum(target_emb * context_emb, dim=1)  # Dot product similarity\n",
    "        return scores\n",
    "\n",
    "# Model parameters\n",
    "embed_dim = 100  # Word embedding size\n",
    "model = Word2Vec(vocab_size, embed_dim)\n"
   ]
  },
  {
   "cell_type": "code",
   "execution_count": 14,
   "metadata": {},
   "outputs": [],
   "source": [
    "X = df_ids[['center_word', 'context_word']].values  # Word ID pairs as input\n",
    "y = df_ids['label'].values  # Labels (0 or 1)"
   ]
  },
  {
   "cell_type": "code",
   "execution_count": null,
   "metadata": {},
   "outputs": [
    {
     "name": "stdout",
     "output_type": "stream",
     "text": [
      "Using device: cuda\n"
     ]
    }
   ],
   "source": [
    "import torch\n",
    "import torch.nn as nn\n",
    "import torch.optim as optim\n",
    "from torch.utils.data import TensorDataset, DataLoader\n",
    "\n",
    "# Check if GPU is available\n",
    "device = torch.device(\"cuda\" if torch.cuda.is_available() else \"cpu\")\n",
    "print(f\"Using device: {device}\")\n",
    "\n",
    "# Model Configuration\n",
    "VOCAB_SIZE = len(vocab) + 1  # Add 1 for unknown words\n",
    "EMBEDDING_DIM = 100  # As required\n",
    "HIDDEN_DIM = 64  # Hidden layer size\n",
    "BATCH_SIZE = 128  # Adjustable\n",
    "EPOCHS = 50  # Number of training epochs\n",
    "LR = 0.001  # Learning rate\n",
    "\n",
    "# Define Word2Vec Model with Binary Classification\n",
    "class Word2VecClassifier(nn.Module):\n",
    "    def __init__(self, vocab_size, embedding_dim, hidden_dim):\n",
    "        super(Word2VecClassifier, self).__init__()\n",
    "        self.embedding = nn.Embedding(vocab_size, embedding_dim)  # Word embedding layer\n",
    "        self.fc1 = nn.Linear(embedding_dim * 2, hidden_dim)  # Hidden layer\n",
    "        self.fc2 = nn.Linear(hidden_dim, 1)  # Output layer (binary classification)\n",
    "        self.sigmoid = nn.Sigmoid()  # Binary classification activation\n",
    "\n",
    "    def forward(self, x):\n",
    "        word1 = self.embedding(x[:, 0])  # Get embedding for center_word\n",
    "        word2 = self.embedding(x[:, 1])  # Get embedding for context_word\n",
    "        combined = torch.cat((word1, word2), dim=1)  # Concatenate embeddings\n",
    "        hidden = torch.relu(self.fc1(combined))  # Hidden layer with ReLU\n",
    "        output = self.sigmoid(self.fc2(hidden))  # Binary classification output\n",
    "        return output\n",
    "\n",
    "# Initialize Model and Move to GPU\n",
    "model = Word2VecClassifier(VOCAB_SIZE, EMBEDDING_DIM, HIDDEN_DIM).to(device)\n"
   ]
  },
  {
   "cell_type": "code",
   "execution_count": 16,
   "metadata": {},
   "outputs": [],
   "source": [
    "# Convert DataFrame to PyTorch tensors\n",
    "X_tensor = torch.tensor(X, dtype=torch.long).to(device)  # Word indices must be long\n",
    "y_tensor = torch.tensor(y, dtype=torch.float32).to(device)  # Labels must be float\n",
    "\n",
    "# Create Dataset and DataLoader\n",
    "dataset = TensorDataset(X_tensor, y_tensor)\n",
    "dataloader = DataLoader(dataset, batch_size=BATCH_SIZE, shuffle=True)\n"
   ]
  },
  {
   "cell_type": "code",
   "execution_count": 17,
   "metadata": {},
   "outputs": [
    {
     "name": "stdout",
     "output_type": "stream",
     "text": [
      "2.6.0+cu124\n",
      "True\n"
     ]
    }
   ],
   "source": [
    "import torch\n",
    "print(torch.__version__)\n",
    "print(torch.cuda.is_available())  # Should print True if GPU is available\n"
   ]
  },
  {
   "cell_type": "code",
   "execution_count": 18,
   "metadata": {},
   "outputs": [
    {
     "name": "stderr",
     "output_type": "stream",
     "text": [
      "Epoch 1/5: 100%|██████████| 748/748 [00:05<00:00, 145.07it/s, loss=0.682]\n"
     ]
    },
    {
     "name": "stdout",
     "output_type": "stream",
     "text": [
      "Epoch 1/5, Avg Loss: 0.5749512828368554\n"
     ]
    },
    {
     "name": "stderr",
     "output_type": "stream",
     "text": [
      "Epoch 2/5: 100%|██████████| 748/748 [00:04<00:00, 171.38it/s, loss=0.755]\n"
     ]
    },
    {
     "name": "stdout",
     "output_type": "stream",
     "text": [
      "Epoch 2/5, Avg Loss: 0.5621396576497644\n"
     ]
    },
    {
     "name": "stderr",
     "output_type": "stream",
     "text": [
      "Epoch 3/5: 100%|██████████| 748/748 [00:04<00:00, 167.99it/s, loss=0.6]  \n"
     ]
    },
    {
     "name": "stdout",
     "output_type": "stream",
     "text": [
      "Epoch 3/5, Avg Loss: 0.5572760949000956\n"
     ]
    },
    {
     "name": "stderr",
     "output_type": "stream",
     "text": [
      "Epoch 4/5: 100%|██████████| 748/748 [00:04<00:00, 173.63it/s, loss=0.549]\n"
     ]
    },
    {
     "name": "stdout",
     "output_type": "stream",
     "text": [
      "Epoch 4/5, Avg Loss: 0.5510645405972068\n"
     ]
    },
    {
     "name": "stderr",
     "output_type": "stream",
     "text": [
      "Epoch 5/5: 100%|██████████| 748/748 [00:04<00:00, 151.25it/s, loss=0.511]"
     ]
    },
    {
     "name": "stdout",
     "output_type": "stream",
     "text": [
      "Epoch 5/5, Avg Loss: 0.537929312311073\n"
     ]
    },
    {
     "name": "stderr",
     "output_type": "stream",
     "text": [
      "\n"
     ]
    }
   ],
   "source": [
    "# Loss function and optimizer\n",
    "criterion = nn.BCELoss()  # Binary cross-entropy for binary classification\n",
    "optimizer = optim.Adam(model.parameters(), lr=LR)\n",
    "\n",
    "# Training Loop\n",
    "for epoch in range(EPOCHS):\n",
    "    model.train()\n",
    "    total_loss = 0\n",
    "    loop = tqdm.tqdm(dataloader, desc=f\"Epoch {epoch+1}/{EPOCHS}\", leave=True)  # tqdm progress bar\n",
    "    \n",
    "    for batch in loop:\n",
    "        x_batch, y_batch = batch  # Unpack batch\n",
    "        optimizer.zero_grad()  # Reset gradients\n",
    "        outputs = model(x_batch).squeeze()  # Forward pass\n",
    "        loss = criterion(outputs, y_batch)  # Compute loss\n",
    "        loss.backward()  # Backpropagation\n",
    "        optimizer.step()  # Update weights\n",
    "        total_loss += loss.item()\n",
    "\n",
    "        # Update tqdm bar with loss\n",
    "        loop.set_postfix(loss=loss.item())\n",
    "\n",
    "    print(f\"Epoch {epoch+1}/{EPOCHS}, Avg Loss: {total_loss / len(dataloader)}\")\n",
    "\n"
   ]
  },
  {
   "cell_type": "code",
   "execution_count": null,
   "metadata": {},
   "outputs": [
    {
     "name": "stdout",
     "output_type": "stream",
     "text": [
      "Model saved successfully!\n"
     ]
    }
   ],
   "source": [
    "torch.save(model.state_dict(), \"models/2/word2vec_classifier_50epoch.pth\")\n",
    "print(\"Model saved successfully!\")\n"
   ]
  },
  {
   "cell_type": "code",
   "execution_count": 2,
   "metadata": {},
   "outputs": [
    {
     "name": "stdout",
     "output_type": "stream",
     "text": [
      "Vocabulary size: 17305\n"
     ]
    }
   ],
   "source": [
    "import os\n",
    "import pandas as pd\n",
    "import numpy as np\n",
    "import tqdm\n",
    "# import torch\n",
    "# import torch.nn as nn\n",
    "# import torch.optim as optim\n",
    "# from torch.utils.data import Dataset, DataLoader\n",
    "from collections import Counter\n",
    "\n",
    "# ===============================\n",
    "# 1️⃣ Load Dataset & Create Vocabulary\n",
    "# ===============================\n",
    "\n",
    "df = pd.read_csv('../data/hate/train.csv')\n",
    "\n",
    "# Create Vocabulary\n",
    "vocab = Counter(word for sentence in df['Sentence'] for word in sentence.split())\n",
    "word2idx = {word: i for i, (word, _) in enumerate(vocab.items())}\n",
    "idx2word = {i: word for word, i in word2idx.items()}\n",
    "vocab_size = len(word2idx)\n",
    "print(\"Vocabulary size:\", vocab_size)\n",
    "\n",
    "# # Convert Sentences to Word Indices\n",
    "# train_sentences = [word2idx[word] for sentence in df['Sentence'] for word in sentence.split()]\n",
    "# train_sentences = np.array(train_sentences, dtype=np.int32)\n",
    "\n",
    "# # ===============================\n",
    "# # 2️⃣ Optimized Training Pair Generation\n",
    "# # ===============================\n",
    "\n",
    "# WINDOW_SIZE = 3\n",
    "# NUM_NEGATIVE_SAMPLES = 3\n",
    "# NEGATIVE_SAMPLING_TABLE_SIZE = 1_000_000  # Large table for efficient sampling\n",
    "\n",
    "# # **🔹 Precompute a large table for negative sampling**\n",
    "# word_freqs = np.array(list(vocab.values()), dtype=np.float32)\n",
    "# word_freqs = word_freqs ** 0.75  # Smooth frequency\n",
    "# word_freqs /= word_freqs.sum()  # Normalize\n",
    "# negative_sample_table = np.random.choice(\n",
    "#     list(word2idx.values()), size=NEGATIVE_SAMPLING_TABLE_SIZE, p=word_freqs\n",
    "# )\n",
    "\n",
    "# # **🔹 Generate Training Pairs Efficiently**\n",
    "# data = []\n",
    "# neg_idx = 0\n",
    "\n",
    "# for i in tqdm.tqdm(range(WINDOW_SIZE, len(train_sentences) - WINDOW_SIZE), desc=\"Generating Pairs\"):\n",
    "#     center_word = train_sentences[i]\n",
    "#     context_words = np.concatenate((train_sentences[i - WINDOW_SIZE:i], train_sentences[i + 1:i + 1 + WINDOW_SIZE]))\n",
    "\n",
    "#     for context_word in context_words:\n",
    "#         data.append([center_word, context_word, 1])  # Positive sample\n",
    "\n",
    "#         # **Fast Negative Sampling**\n",
    "#         neg_samples = []\n",
    "#         while len(neg_samples) < NUM_NEGATIVE_SAMPLES:\n",
    "#             neg_word = negative_sample_table[neg_idx]\n",
    "#             neg_idx = (neg_idx + 1) % NEGATIVE_SAMPLING_TABLE_SIZE  # Circular index\n",
    "#             if neg_word not in context_words and neg_word != center_word:\n",
    "#                 neg_samples.append(neg_word)\n",
    "\n",
    "#         for neg_word in neg_samples:\n",
    "#             data.append([center_word, neg_word, 0])  # Negative sample\n",
    "\n",
    "# # Convert to DataFrame\n",
    "# df_pairs = pd.DataFrame(data, columns=['center_word', 'context_word', 'label'])\n",
    "# df_pairs = df_pairs.drop_duplicates().reset_index(drop=True)\n",
    "\n",
    "# print(f\"Total training pairs: {len(df_pairs)}\")\n",
    "\n"
   ]
  },
  {
   "cell_type": "code",
   "execution_count": 1,
   "metadata": {},
   "outputs": [
    {
     "name": "stdout",
     "output_type": "stream",
     "text": [
      "Using device: cuda\n"
     ]
    },
    {
     "ename": "NameError",
     "evalue": "name 'vocab_size' is not defined",
     "output_type": "error",
     "traceback": [
      "\u001b[31m---------------------------------------------------------------------------\u001b[39m",
      "\u001b[31mNameError\u001b[39m                                 Traceback (most recent call last)",
      "\u001b[36mCell\u001b[39m\u001b[36m \u001b[39m\u001b[32mIn[1]\u001b[39m\u001b[32m, line 29\u001b[39m\n\u001b[32m     26\u001b[39m LR = \u001b[32m0.001\u001b[39m\n\u001b[32m     28\u001b[39m \u001b[38;5;66;03m# Initialize Model\u001b[39;00m\n\u001b[32m---> \u001b[39m\u001b[32m29\u001b[39m model = Word2Vec(\u001b[43mvocab_size\u001b[49m, EMBEDDING_DIM)\n",
      "\u001b[31mNameError\u001b[39m: name 'vocab_size' is not defined"
     ]
    }
   ],
   "source": [
    "import torch \n",
    "import torch.nn as nn\n",
    "class Word2Vec(nn.Module):\n",
    "    def __init__(self, vocab_size, embed_dim):\n",
    "        super(Word2Vec, self).__init__()\n",
    "        self.embeddings = nn.Embedding(vocab_size, embed_dim)\n",
    "        self.output_embeddings = nn.Embedding(vocab_size, embed_dim)\n",
    "    \n",
    "    def forward(self, target, context):\n",
    "        target_emb = self.embeddings(target)  # (batch_size, embed_dim)\n",
    "        context_emb = self.output_embeddings(context)  # (batch_size, embed_dim)\n",
    "        scores = torch.sum(target_emb * context_emb, dim=1)  # Dot product similarity\n",
    "        return scores\n",
    "\n",
    "# ===============================\n",
    "# 5️⃣ Training Loop\n",
    "# ===============================\n",
    "\n",
    "# Check if GPU is available\n",
    "device = torch.device(\"cuda\" if torch.cuda.is_available() else \"cpu\")\n",
    "print(f\"Using device: {device}\")\n",
    "\n",
    "# Model Configuration\n",
    "EMBEDDING_DIM = 100\n",
    "EPOCHS = 10\n",
    "LR = 0.001\n",
    "\n",
    "# Initialize Model\n",
    "model = Word2Vec(vocab_size, EMBEDDING_DIM)"
   ]
  },
  {
   "cell_type": "code",
   "execution_count": 61,
   "metadata": {},
   "outputs": [
    {
     "ename": "FileNotFoundError",
     "evalue": "[Errno 2] No such file or directory: 'models/word2vec/word_embeddings.npy'",
     "output_type": "error",
     "traceback": [
      "\u001b[31m---------------------------------------------------------------------------\u001b[39m",
      "\u001b[31mFileNotFoundError\u001b[39m                         Traceback (most recent call last)",
      "\u001b[36mCell\u001b[39m\u001b[36m \u001b[39m\u001b[32mIn[61]\u001b[39m\u001b[32m, line 10\u001b[39m\n\u001b[32m      7\u001b[39m embedding_dict = {idx2word[i]: word_embeddings[i] \u001b[38;5;28;01mfor\u001b[39;00m i \u001b[38;5;129;01min\u001b[39;00m \u001b[38;5;28mrange\u001b[39m(vocab_size)}\n\u001b[32m      9\u001b[39m \u001b[38;5;66;03m# Save as a NumPy file\u001b[39;00m\n\u001b[32m---> \u001b[39m\u001b[32m10\u001b[39m \u001b[43mnp\u001b[49m\u001b[43m.\u001b[49m\u001b[43msave\u001b[49m\u001b[43m(\u001b[49m\u001b[33;43m\"\u001b[39;49m\u001b[33;43mmodels/word2vec/word_embeddings.npy\u001b[39;49m\u001b[33;43m\"\u001b[39;49m\u001b[43m,\u001b[49m\u001b[43m \u001b[49m\u001b[43membedding_dict\u001b[49m\u001b[43m)\u001b[49m\n\u001b[32m     12\u001b[39m \u001b[38;5;28mprint\u001b[39m(\u001b[33m\"\u001b[39m\u001b[33m✅ Word embeddings saved successfully!\u001b[39m\u001b[33m\"\u001b[39m)\n",
      "\u001b[36mFile \u001b[39m\u001b[32m~/.conda/envs/tanishq_1/lib/python3.13/site-packages/numpy/lib/_npyio_impl.py:577\u001b[39m, in \u001b[36msave\u001b[39m\u001b[34m(file, arr, allow_pickle, fix_imports)\u001b[39m\n\u001b[32m    575\u001b[39m     \u001b[38;5;28;01mif\u001b[39;00m \u001b[38;5;129;01mnot\u001b[39;00m file.endswith(\u001b[33m'\u001b[39m\u001b[33m.npy\u001b[39m\u001b[33m'\u001b[39m):\n\u001b[32m    576\u001b[39m         file = file + \u001b[33m'\u001b[39m\u001b[33m.npy\u001b[39m\u001b[33m'\u001b[39m\n\u001b[32m--> \u001b[39m\u001b[32m577\u001b[39m     file_ctx = \u001b[38;5;28;43mopen\u001b[39;49m\u001b[43m(\u001b[49m\u001b[43mfile\u001b[49m\u001b[43m,\u001b[49m\u001b[43m \u001b[49m\u001b[33;43m\"\u001b[39;49m\u001b[33;43mwb\u001b[39;49m\u001b[33;43m\"\u001b[39;49m\u001b[43m)\u001b[49m\n\u001b[32m    579\u001b[39m \u001b[38;5;28;01mwith\u001b[39;00m file_ctx \u001b[38;5;28;01mas\u001b[39;00m fid:\n\u001b[32m    580\u001b[39m     arr = np.asanyarray(arr)\n",
      "\u001b[31mFileNotFoundError\u001b[39m: [Errno 2] No such file or directory: 'models/word2vec/word_embeddings.npy'"
     ]
    }
   ],
   "source": [
    "import numpy as np\n",
    "\n",
    "# Extract word embeddings\n",
    "word_embeddings = model.embeddings.weight.data.cpu().numpy()  # Move to CPU if on GPU\n",
    "\n",
    "# Save embeddings with word mappings\n",
    "embedding_dict = {idx2word[i]: word_embeddings[i] for i in range(vocab_size)}\n",
    "\n",
    "# Save as a NumPy file\n",
    "np.save(\"models/word2vec/word_embeddings.npy\", embedding_dict)\n",
    "\n",
    "print(\"✅ Word embeddings saved successfully!\")\n"
   ]
  },
  {
   "cell_type": "code",
   "execution_count": 5,
   "metadata": {},
   "outputs": [
    {
     "data": {
      "image/png": "[encoded data removed]",
      "text/plain": [
       "<Figure size 1200x800 with 1 Axes>"
      ]
     },
     "metadata": {},
     "output_type": "display_data"
    }
   ],
   "source": [
    "import matplotlib.pyplot as plt\n",
    "from sklearn.manifold import TSNE\n",
    "\n",
    "# Load saved embeddings\n",
    "embedding_dict = np.load(\"models/word2vec/word_embeddings.npy\", allow_pickle=True).item()\n",
    "\n",
    "# Select 200 most frequent words for visualization\n",
    "top_words = list(embedding_dict.keys())[:200]\n",
    "top_embeddings = np.array([embedding_dict[word] for word in top_words])\n",
    "\n",
    "# Reduce dimensions to 2D\n",
    "tsne = TSNE(n_components=2, random_state=42)\n",
    "embeddings_2d = tsne.fit_transform(top_embeddings)\n",
    "\n",
    "# Plot embeddings\n",
    "plt.figure(figsize=(12, 8))\n",
    "for i, word in enumerate(top_words):\n",
    "    plt.scatter(embeddings_2d[i, 0], embeddings_2d[i, 1])\n",
    "    plt.annotate(word, (embeddings_2d[i, 0], embeddings_2d[i, 1]), fontsize=9)\n",
    "\n",
    "plt.title(\"t-SNE Visualization of Word Embeddings\")\n",
    "plt.show()\n"
   ]
  },
  {
   "cell_type": "code",
   "execution_count": 94,
   "metadata": {},
   "outputs": [
    {
     "data": {
      "text/plain": [
       "('#hariyana', (100,))"
      ]
     },
     "execution_count": 94,
     "metadata": {},
     "output_type": "execute_result"
    }
   ],
   "source": [
    "top_words[0], top_embeddings[0].shape"
   ]
  },
  {
   "cell_type": "code",
   "execution_count": 9,
   "metadata": {},
   "outputs": [
    {
     "name": "stdout",
     "output_type": "stream",
     "text": [
      "Words similar to 'terrorist':\n",
      "@DrRutvij (Similarity: 0.4775)\n",
      "sadi (Similarity: 0.3631)\n",
      "karwayengi??? (Similarity: 0.3607)\n",
      "jayaigi (Similarity: 0.3545)\n",
      "inlogo (Similarity: 0.3434)\n"
     ]
    }
   ],
   "source": [
    "from sklearn.metrics.pairwise import cosine_similarity\n",
    "\n",
    "def find_similar_words(target_word, top_n=5):\n",
    "    if target_word not in embedding_dict:\n",
    "        print(\"Word not in vocabulary!\")\n",
    "        return\n",
    "\n",
    "    target_embedding = embedding_dict[target_word].reshape(1, -1)\n",
    "    all_words = list(embedding_dict.keys())\n",
    "    all_embeddings = np.array([embedding_dict[word] for word in all_words])\n",
    "\n",
    "    # Compute cosine similarity\n",
    "    similarities = cosine_similarity(target_embedding, all_embeddings)[0]\n",
    "    top_indices = similarities.argsort()[-top_n-1:-1][::-1]\n",
    "\n",
    "    # Display similar words\n",
    "    print(f\"Words similar to '{target_word}':\")\n",
    "    for idx in top_indices:\n",
    "        print(f\"{all_words[idx]} (Similarity: {similarities[idx]:.4f})\")\n",
    "\n",
    "# Example usage\n",
    "find_similar_words(\"terrorist\")\n"
   ]
  },
  {
   "cell_type": "code",
   "execution_count": 62,
   "metadata": {},
   "outputs": [],
   "source": [
    "import numpy as np\n",
    "import torch\n",
    "\n",
    "# Load embeddings\n",
    "embedding_dict = np.load(\"models/word2vec_10epocj/word_embeddings.npy\", allow_pickle=True).item()\n",
    "\n",
    "# Convert to tensor\n",
    "vocab_size = len(embedding_dict)\n",
    "embedding_dim = len(next(iter(embedding_dict.values())))  # Get embedding size\n",
    "\n",
    "# Create embedding matrix\n",
    "embedding_matrix = np.zeros((vocab_size, embedding_dim))\n",
    "word2idx = {word: idx for idx, word in enumerate(embedding_dict.keys())}\n",
    "\n",
    "for word, idx in word2idx.items():\n",
    "    embedding_matrix[idx] = embedding_dict[word]\n",
    "\n",
    "embedding_matrix = torch.tensor(embedding_matrix, dtype=torch.float32)\n"
   ]
  },
  {
   "cell_type": "code",
   "execution_count": 95,
   "metadata": {},
   "outputs": [],
   "source": [
    "import pandas as pd\n",
    "from torch.utils.data import Dataset, DataLoader\n",
    "\n",
    "# Load dataset\n",
    "df = pd.read_csv(\"../data/hate/train.csv\")\n",
    "\n",
    "# Convert text to sequences of word indices\n",
    "def text_to_sequence(text):\n",
    "    return [word2idx[word] for word in text.split() if word in word2idx]\n",
    "\n",
    "df[\"sequence\"] = df[\"Sentence\"].apply(text_to_sequence)\n",
    "\n",
    "# Padding sequences to the same length\n",
    "MAX_LEN = 100  # Choose max sentence length\n",
    "def pad_sequence(seq, max_len=MAX_LEN):\n",
    "    return seq[:max_len] + [0] * (max_len - len(seq))  # Pad with zeros if shorter\n",
    "\n",
    "df[\"padded_seq\"] = df[\"sequence\"].apply(lambda x: pad_sequence(x))\n",
    "\n",
    "# Convert labels to numerical valuesZ\n",
    "label_mapping = {\"hate\": 0, \"non-hate\": 1,}  # Adjust if needed\n",
    "df[\"label\"] = df[\"Tag\"].astype(int)"
   ]
  },
  {
   "cell_type": "code",
   "execution_count": 96,
   "metadata": {},
   "outputs": [
    {
     "data": {
      "text/plain": [
       "0       1\n",
       "1       1\n",
       "2       1\n",
       "3       0\n",
       "4       1\n",
       "       ..\n",
       "3655    1\n",
       "3656    0\n",
       "3657    0\n",
       "3658    1\n",
       "3659    1\n",
       "Name: label, Length: 3660, dtype: int64"
      ]
     },
     "execution_count": 96,
     "metadata": {},
     "output_type": "execute_result"
    }
   ],
   "source": [
    "df[\"label\"]"
   ]
  },
  {
   "cell_type": "code",
   "execution_count": 97,
   "metadata": {},
   "outputs": [],
   "source": [
    "class HateSpeechDataset(Dataset):\n",
    "    def __init__(self, sequences, labels):\n",
    "        self.sequences = torch.tensor(sequences, dtype=torch.long)\n",
    "        self.labels = torch.tensor(labels, dtype=torch.long)\n",
    "\n",
    "    def __len__(self):\n",
    "        return len(self.sequences)\n",
    "\n",
    "    def __getitem__(self, idx):\n",
    "        return self.sequences[idx], self.labels[idx]\n",
    "\n",
    "# Create dataset\n",
    "dataset = HateSpeechDataset(df[\"padded_seq\"].tolist(), df[\"label\"].tolist())\n",
    "\n",
    "# DataLoader\n",
    "BATCH_SIZE = 32\n",
    "dataloader = DataLoader(dataset, batch_size=BATCH_SIZE, shuffle=True)\n"
   ]
  },
  {
   "cell_type": "code",
   "execution_count": 98,
   "metadata": {},
   "outputs": [],
   "source": [
    "i, l = next(iter(dataloader))"
   ]
  },
  {
   "cell_type": "code",
   "execution_count": 99,
   "metadata": {},
   "outputs": [
    {
     "data": {
      "text/plain": [
       "(torch.Size([32, 100]), torch.Size([32]))"
      ]
     },
     "execution_count": 99,
     "metadata": {},
     "output_type": "execute_result"
    }
   ],
   "source": [
    "i.shape, l.shape"
   ]
  },
  {
   "cell_type": "code",
   "execution_count": 100,
   "metadata": {},
   "outputs": [],
   "source": [
    "import torch.nn as nn\n",
    "import torch.nn.functional as F\n",
    "\n",
    "class FFNNClassifier(nn.Module):\n",
    "    def __init__(self, vocab_size, embedding_dim, hidden_dim, num_classes):\n",
    "        super(FFNNClassifier, self).__init__()\n",
    "        self.embedding = nn.Embedding.from_pretrained(embedding_matrix, freeze=False)\n",
    "        self.fc1 = nn.Linear(embedding_dim, hidden_dim)\n",
    "        self.fc2 = nn.Linear(hidden_dim, num_classes)\n",
    "\n",
    "    def forward(self, x):\n",
    "        x = self.embedding(x)  # (batch_size, max_len, embed_dim)\n",
    "        x = torch.mean(x, dim=1)  # Average word embeddings (batch_size, embed_dim)\n",
    "        x = F.relu(self.fc1(x))\n",
    "        x = self.fc2(x)\n",
    "        return x  # No softmax, as we'll use CrossEntropyLoss\n"
   ]
  },
  {
   "cell_type": "code",
   "execution_count": 101,
   "metadata": {},
   "outputs": [],
   "source": [
    "!export CUDA_LAUNCH_BLOCKING=1"
   ]
  },
  {
   "cell_type": "code",
   "execution_count": 102,
   "metadata": {},
   "outputs": [
    {
     "name": "stderr",
     "output_type": "stream",
     "text": [
      "Epoch 1/10:   0%|          | 0/115 [00:00<?, ?it/s]"
     ]
    },
    {
     "name": "stdout",
     "output_type": "stream",
     "text": [
      "0 1\n"
     ]
    },
    {
     "name": "stderr",
     "output_type": "stream",
     "text": [
      "\n"
     ]
    },
    {
     "ename": "RuntimeError",
     "evalue": "CUDA error: device-side assert triggered\nCUDA kernel errors might be asynchronously reported at some other API call, so the stacktrace below might be incorrect.\nFor debugging consider passing CUDA_LAUNCH_BLOCKING=1\nCompile with `TORCH_USE_CUDA_DSA` to enable device-side assertions.\n",
     "output_type": "error",
     "traceback": [
      "\u001b[31m---------------------------------------------------------------------------\u001b[39m",
      "\u001b[31mRuntimeError\u001b[39m                              Traceback (most recent call last)",
      "\u001b[36mCell\u001b[39m\u001b[36m \u001b[39m\u001b[32mIn[102]\u001b[39m\u001b[32m, line 31\u001b[39m\n\u001b[32m     28\u001b[39m loss.backward()\n\u001b[32m     29\u001b[39m \u001b[38;5;28mprint\u001b[39m(labels.min().item(), labels.max().item())  \u001b[38;5;66;03m# Should be between 0 and 2 (if num_classes=3)\u001b[39;00m\n\u001b[32m---> \u001b[39m\u001b[32m31\u001b[39m \u001b[43moptimizer\u001b[49m\u001b[43m.\u001b[49m\u001b[43mstep\u001b[49m\u001b[43m(\u001b[49m\u001b[43m)\u001b[49m\n\u001b[32m     33\u001b[39m total_loss += loss.item()\n\u001b[32m     34\u001b[39m loop.set_postfix(loss=loss.item())  \u001b[38;5;66;03m# Show loss in tqdm\u001b[39;00m\n",
      "\u001b[36mFile \u001b[39m\u001b[32m~/.conda/envs/tanishq_1/lib/python3.13/site-packages/torch/optim/optimizer.py:493\u001b[39m, in \u001b[36mOptimizer.profile_hook_step.<locals>.wrapper\u001b[39m\u001b[34m(*args, **kwargs)\u001b[39m\n\u001b[32m    488\u001b[39m         \u001b[38;5;28;01melse\u001b[39;00m:\n\u001b[32m    489\u001b[39m             \u001b[38;5;28;01mraise\u001b[39;00m \u001b[38;5;167;01mRuntimeError\u001b[39;00m(\n\u001b[32m    490\u001b[39m                 \u001b[33mf\u001b[39m\u001b[33m\"\u001b[39m\u001b[38;5;132;01m{\u001b[39;00mfunc\u001b[38;5;132;01m}\u001b[39;00m\u001b[33m must return None or a tuple of (new_args, new_kwargs), but got \u001b[39m\u001b[38;5;132;01m{\u001b[39;00mresult\u001b[38;5;132;01m}\u001b[39;00m\u001b[33m.\u001b[39m\u001b[33m\"\u001b[39m\n\u001b[32m    491\u001b[39m             )\n\u001b[32m--> \u001b[39m\u001b[32m493\u001b[39m out = \u001b[43mfunc\u001b[49m\u001b[43m(\u001b[49m\u001b[43m*\u001b[49m\u001b[43margs\u001b[49m\u001b[43m,\u001b[49m\u001b[43m \u001b[49m\u001b[43m*\u001b[49m\u001b[43m*\u001b[49m\u001b[43mkwargs\u001b[49m\u001b[43m)\u001b[49m\n\u001b[32m    494\u001b[39m \u001b[38;5;28mself\u001b[39m._optimizer_step_code()\n\u001b[32m    496\u001b[39m \u001b[38;5;66;03m# call optimizer step post hooks\u001b[39;00m\n",
      "\u001b[36mFile \u001b[39m\u001b[32m~/.conda/envs/tanishq_1/lib/python3.13/site-packages/torch/optim/optimizer.py:91\u001b[39m, in \u001b[36m_use_grad_for_differentiable.<locals>._use_grad\u001b[39m\u001b[34m(self, *args, **kwargs)\u001b[39m\n\u001b[32m     89\u001b[39m     torch.set_grad_enabled(\u001b[38;5;28mself\u001b[39m.defaults[\u001b[33m\"\u001b[39m\u001b[33mdifferentiable\u001b[39m\u001b[33m\"\u001b[39m])\n\u001b[32m     90\u001b[39m     torch._dynamo.graph_break()\n\u001b[32m---> \u001b[39m\u001b[32m91\u001b[39m     ret = \u001b[43mfunc\u001b[49m\u001b[43m(\u001b[49m\u001b[38;5;28;43mself\u001b[39;49m\u001b[43m,\u001b[49m\u001b[43m \u001b[49m\u001b[43m*\u001b[49m\u001b[43margs\u001b[49m\u001b[43m,\u001b[49m\u001b[43m \u001b[49m\u001b[43m*\u001b[49m\u001b[43m*\u001b[49m\u001b[43mkwargs\u001b[49m\u001b[43m)\u001b[49m\n\u001b[32m     92\u001b[39m \u001b[38;5;28;01mfinally\u001b[39;00m:\n\u001b[32m     93\u001b[39m     torch._dynamo.graph_break()\n",
      "\u001b[36mFile \u001b[39m\u001b[32m~/.conda/envs/tanishq_1/lib/python3.13/site-packages/torch/optim/adam.py:218\u001b[39m, in \u001b[36mAdam.step\u001b[39m\u001b[34m(self, closure)\u001b[39m\n\u001b[32m    210\u001b[39m \u001b[38;5;129m@_use_grad_for_differentiable\u001b[39m\n\u001b[32m    211\u001b[39m \u001b[38;5;28;01mdef\u001b[39;00m\u001b[38;5;250m \u001b[39m\u001b[34mstep\u001b[39m(\u001b[38;5;28mself\u001b[39m, closure=\u001b[38;5;28;01mNone\u001b[39;00m):\n\u001b[32m    212\u001b[39m \u001b[38;5;250m    \u001b[39m\u001b[33;03m\"\"\"Perform a single optimization step.\u001b[39;00m\n\u001b[32m    213\u001b[39m \n\u001b[32m    214\u001b[39m \u001b[33;03m    Args:\u001b[39;00m\n\u001b[32m    215\u001b[39m \u001b[33;03m        closure (Callable, optional): A closure that reevaluates the model\u001b[39;00m\n\u001b[32m    216\u001b[39m \u001b[33;03m            and returns the loss.\u001b[39;00m\n\u001b[32m    217\u001b[39m \u001b[33;03m    \"\"\"\u001b[39;00m\n\u001b[32m--> \u001b[39m\u001b[32m218\u001b[39m     \u001b[38;5;28;43mself\u001b[39;49m\u001b[43m.\u001b[49m\u001b[43m_cuda_graph_capture_health_check\u001b[49m\u001b[43m(\u001b[49m\u001b[43m)\u001b[49m\n\u001b[32m    220\u001b[39m     loss = \u001b[38;5;28;01mNone\u001b[39;00m\n\u001b[32m    221\u001b[39m     \u001b[38;5;28;01mif\u001b[39;00m closure \u001b[38;5;129;01mis\u001b[39;00m \u001b[38;5;129;01mnot\u001b[39;00m \u001b[38;5;28;01mNone\u001b[39;00m:\n",
      "\u001b[36mFile \u001b[39m\u001b[32m~/.conda/envs/tanishq_1/lib/python3.13/site-packages/torch/optim/optimizer.py:436\u001b[39m, in \u001b[36mOptimizer._cuda_graph_capture_health_check\u001b[39m\u001b[34m(self)\u001b[39m\n\u001b[32m    420\u001b[39m \u001b[38;5;28;01mdef\u001b[39;00m\u001b[38;5;250m \u001b[39m\u001b[34m_cuda_graph_capture_health_check\u001b[39m(\u001b[38;5;28mself\u001b[39m) -> \u001b[38;5;28;01mNone\u001b[39;00m:\n\u001b[32m    421\u001b[39m     \u001b[38;5;66;03m# Note [torch.compile x capturable]\u001b[39;00m\n\u001b[32m    422\u001b[39m     \u001b[38;5;66;03m# If we are compiling, we try to take the capturable path automatically by\u001b[39;00m\n\u001b[32m   (...)\u001b[39m\u001b[32m    429\u001b[39m     \u001b[38;5;66;03m# Thus, when compiling, inductor will determine if cudagraphs\u001b[39;00m\n\u001b[32m    430\u001b[39m     \u001b[38;5;66;03m# can be enabled based on whether there is input mutation or CPU tensors.\u001b[39;00m\n\u001b[32m    431\u001b[39m     \u001b[38;5;28;01mif\u001b[39;00m (\n\u001b[32m    432\u001b[39m         \u001b[38;5;129;01mnot\u001b[39;00m torch.compiler.is_compiling()\n\u001b[32m    433\u001b[39m         \u001b[38;5;129;01mand\u001b[39;00m torch.backends.cuda.is_built()\n\u001b[32m    434\u001b[39m         \u001b[38;5;129;01mand\u001b[39;00m torch.cuda.is_available()\n\u001b[32m    435\u001b[39m     ):\n\u001b[32m--> \u001b[39m\u001b[32m436\u001b[39m         capturing = \u001b[43mtorch\u001b[49m\u001b[43m.\u001b[49m\u001b[43mcuda\u001b[49m\u001b[43m.\u001b[49m\u001b[43mis_current_stream_capturing\u001b[49m\u001b[43m(\u001b[49m\u001b[43m)\u001b[49m\n\u001b[32m    438\u001b[39m         \u001b[38;5;28;01mif\u001b[39;00m capturing \u001b[38;5;129;01mand\u001b[39;00m \u001b[38;5;129;01mnot\u001b[39;00m \u001b[38;5;28mall\u001b[39m(\n\u001b[32m    439\u001b[39m             group[\u001b[33m\"\u001b[39m\u001b[33mcapturable\u001b[39m\u001b[33m\"\u001b[39m] \u001b[38;5;28;01mfor\u001b[39;00m group \u001b[38;5;129;01min\u001b[39;00m \u001b[38;5;28mself\u001b[39m.param_groups\n\u001b[32m    440\u001b[39m         ):\n\u001b[32m    441\u001b[39m             \u001b[38;5;28;01mraise\u001b[39;00m \u001b[38;5;167;01mRuntimeError\u001b[39;00m(\n\u001b[32m    442\u001b[39m                 \u001b[33m\"\u001b[39m\u001b[33mAttempting CUDA graph capture of step() for an instance of \u001b[39m\u001b[33m\"\u001b[39m\n\u001b[32m    443\u001b[39m                 + \u001b[38;5;28mself\u001b[39m.\u001b[34m__class__\u001b[39m.\u001b[34m__name__\u001b[39m\n\u001b[32m    444\u001b[39m                 + \u001b[33m\"\u001b[39m\u001b[33m but param_groups\u001b[39m\u001b[33m'\u001b[39m\u001b[33m capturable is False.\u001b[39m\u001b[33m\"\u001b[39m\n\u001b[32m    445\u001b[39m             )\n",
      "\u001b[36mFile \u001b[39m\u001b[32m~/.conda/envs/tanishq_1/lib/python3.13/site-packages/torch/cuda/graphs.py:30\u001b[39m, in \u001b[36mis_current_stream_capturing\u001b[39m\u001b[34m()\u001b[39m\n\u001b[32m     25\u001b[39m \u001b[38;5;28;01mdef\u001b[39;00m\u001b[38;5;250m \u001b[39m\u001b[34mis_current_stream_capturing\u001b[39m():\n\u001b[32m     26\u001b[39m \u001b[38;5;250m    \u001b[39m\u001b[33mr\u001b[39m\u001b[33;03m\"\"\"Return True if CUDA graph capture is underway on the current CUDA stream, False otherwise.\u001b[39;00m\n\u001b[32m     27\u001b[39m \n\u001b[32m     28\u001b[39m \u001b[33;03m    If a CUDA context does not exist on the current device, returns False without initializing the context.\u001b[39;00m\n\u001b[32m     29\u001b[39m \u001b[33;03m    \"\"\"\u001b[39;00m\n\u001b[32m---> \u001b[39m\u001b[32m30\u001b[39m     \u001b[38;5;28;01mreturn\u001b[39;00m \u001b[43m_cuda_isCurrentStreamCapturing\u001b[49m\u001b[43m(\u001b[49m\u001b[43m)\u001b[49m\n",
      "\u001b[31mRuntimeError\u001b[39m: CUDA error: device-side assert triggered\nCUDA kernel errors might be asynchronously reported at some other API call, so the stacktrace below might be incorrect.\nFor debugging consider passing CUDA_LAUNCH_BLOCKING=1\nCompile with `TORCH_USE_CUDA_DSA` to enable device-side assertions.\n"
     ]
    }
   ],
   "source": [
    "!export CUDA_LAUNCH_BLOCKING=1\n",
    "import torch.optim as optim\n",
    "\n",
    "# Set device\n",
    "# device = torch.device(\"cuda:0\" if torch.cuda.is_available() else \"cpu\")\n",
    "device = torch.device(\"cpu\")\n",
    "\n",
    "# Initialize model\n",
    "model = FFNNClassifier(vocab_size, embedding_dim, hidden_dim=64, num_classes=2).to(device)\n",
    "\n",
    "# Loss and optimizer\n",
    "criterion = nn.CrossEntropyLoss()\n",
    "optimizer = optim.Adam(model.parameters(), lr=0.001)\n",
    "from tqdm import tqdm\n",
    "\n",
    "EPOCHS = 10\n",
    "for epoch in range(EPOCHS):\n",
    "    total_loss = 0\n",
    "    model.train()\n",
    "    \n",
    "    loop = tqdm(dataloader, desc=f\"Epoch {epoch+1}/{EPOCHS}\")\n",
    "\n",
    "    for sequences, labels in loop:\n",
    "        sequences, labels = sequences.to(device), labels.to(device)\n",
    "        optimizer.zero_grad()\n",
    "        outputs = model(sequences)\n",
    "        loss = criterion(outputs, labels)\n",
    "        loss.backward()\n",
    "        print(labels.min().item(), labels.max().item())  # Should be between 0 and 2 (if num_classes=3)\n",
    "\n",
    "        optimizer.step()\n",
    "        \n",
    "        total_loss += loss.item()\n",
    "        loop.set_postfix(loss=loss.item())  # Show loss in tqdm\n",
    "\n",
    "    print(f\"Epoch {epoch+1}/{EPOCHS}, Avg Loss: {total_loss / len(dataloader):.4f}\")\n"
   ]
  },
  {
   "cell_type": "code",
   "execution_count": null,
   "metadata": {},
   "outputs": [],
   "source": []
  },
  {
   "cell_type": "code",
   "execution_count": null,
   "metadata": {},
   "outputs": [],
   "source": []
  }
 ],
 "metadata": {
  "kernelspec": {
   "display_name": "tanishq_1",
   "language": "python",
   "name": "python3"
  },
  "language_info": {
   "codemirror_mode": {
    "name": "ipython",
    "version": 3
   },
   "file_extension": ".py",
   "mimetype": "text/x-python",
   "name": "python",
   "nbconvert_exporter": "python",
   "pygments_lexer": "ipython3",
   "version": "3.13.2"
  }
 },
 "nbformat": 4,
 "nbformat_minor": 2
}
